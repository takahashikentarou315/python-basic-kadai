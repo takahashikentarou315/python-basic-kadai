{
  "nbformat": 4,
  "nbformat_minor": 0,
  "metadata": {
    "colab": {
      "provenance": []
    },
    "kernelspec": {
      "name": "python3",
      "display_name": "Python 3"
    },
    "language_info": {
      "name": "python"
    }
  },
  "cells": [
    {
      "cell_type": "code",
      "source": [
        "#　Pythonの基礎を学ぼう\n",
        "#　課題5-1　変数を使って四則演算しよう\n",
        "upper_side=10\n",
        "bottom_side=20\n",
        "height=5\n",
        "\n",
        "trapezoidal_area=(upper_side + bottom_side) * height / 2\n",
        "print(f\"台形の面積は{trapezoidal_area}㎠です。\")\n",
        "\n",
        "\n",
        "\n"
      ],
      "metadata": {
        "colab": {
          "base_uri": "https://localhost:8080/"
        },
        "id": "JPqWYdvFyHch",
        "outputId": "a2ccd2c1-6f99-4bca-b95b-320ea91900b3"
      },
      "execution_count": 1,
      "outputs": [
        {
          "output_type": "stream",
          "name": "stdout",
          "text": [
            "台形の面積は75.0㎠です。\n"
          ]
        }
      ]
    }
  ]
}