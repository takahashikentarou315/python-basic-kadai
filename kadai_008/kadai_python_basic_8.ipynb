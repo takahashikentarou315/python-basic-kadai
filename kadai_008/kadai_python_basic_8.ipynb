{
  "nbformat": 4,
  "nbformat_minor": 0,
  "metadata": {
    "colab": {
      "provenance": []
    },
    "kernelspec": {
      "name": "python3",
      "display_name": "Python 3"
    },
    "language_info": {
      "name": "python"
    }
  },
  "cells": [
    {
      "cell_type": "code",
      "source": [
        "# Pythonの基礎を学ぼう\n",
        "# kadai_008\n",
        "\n",
        "import random\n",
        "\n",
        "var = random.randint(0, 100) #0～100までのランダム整数取得\n",
        "\n",
        "if var % 3 == 0: #3の倍数の場合\n",
        "    print(var)\n",
        "    print(\"Fizz\")\n",
        "elif var % 5 == 0: #5の倍数の場合\n",
        "    print(var)\n",
        "    print(\"Buzz\")\n",
        "elif var % 3 == 0 and var % 5 == 0: #3と5の倍数の場合\n",
        "    print(var)\n",
        "    print(\"FizzBuzz\")\n",
        "else: #それら以外\n",
        "    print(var) #整数のみ表示\n"
      ],
      "metadata": {
        "colab": {
          "base_uri": "https://localhost:8080/"
        },
        "id": "TQYksb1L7kqC",
        "outputId": "2101dd0a-236e-48f0-89b0-1f4c98238b67"
      },
      "execution_count": null,
      "outputs": [
        {
          "output_type": "stream",
          "name": "stdout",
          "text": [
            "45\n",
            "Fizz\n"
          ]
        }
      ]
    }
  ]
}