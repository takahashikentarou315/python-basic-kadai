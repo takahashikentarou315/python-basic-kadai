{
  "nbformat": 4,
  "nbformat_minor": 0,
  "metadata": {
    "colab": {
      "provenance": []
    },
    "kernelspec": {
      "name": "python3",
      "display_name": "Python 3"
    },
    "language_info": {
      "name": "python"
    }
  },
  "cells": [
    {
      "cell_type": "code",
      "source": [
        "# Pythonの基礎を学ぼう\n",
        "# kadai_008\n",
        "\n",
        "import random\n",
        "\n",
        "var = random.randint(0, 100) #0～100までのランダム整数取得\n",
        "\n",
        "if var % 3 == 0 and var % 5 == 0: #3と5の公倍数の場合\n",
        "    print(var)\n",
        "    print(\"FizzBuzz\")\n",
        "elif var % 3 == 0: #3の倍数の場合\n",
        "    print(var)\n",
        "    print(\"Fizz\")\n",
        "elif var % 5 == 0: #5の倍数の場合\n",
        "    print(var)\n",
        "    print(\"Buzz\")\n",
        "else: #それら以外\n",
        "    print(var) #整数のみ表示\n",
        "\n"
      ],
      "metadata": {
        "colab": {
          "base_uri": "https://localhost:8080/"
        },
        "id": "TQYksb1L7kqC",
        "outputId": "a3e42262-b474-4af9-899c-6c539002fb56"
      },
      "execution_count": 8,
      "outputs": [
        {
          "output_type": "stream",
          "name": "stdout",
          "text": [
            "0\n",
            "FizzBuzz\n"
          ]
        }
      ]
    }
  ]
}