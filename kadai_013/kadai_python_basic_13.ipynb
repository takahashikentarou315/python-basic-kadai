{
  "nbformat": 4,
  "nbformat_minor": 0,
  "metadata": {
    "colab": {
      "provenance": []
    },
    "kernelspec": {
      "name": "python3",
      "display_name": "Python 3"
    },
    "language_info": {
      "name": "python"
    }
  },
  "cells": [
    {
      "cell_type": "code",
      "source": [
        "#Pythonの基礎を学ぼう\n",
        "#課題_13　関数を使いこなそう\n",
        "\n",
        "def TotalPrice(price: int, tax: int):\n",
        "    price_tax = price * tax / 100 #消費税算出\n",
        "    return price + price_tax #税込み価格を算出し返す\n",
        "\n",
        "print(f\"税込み価格は{TotalPrice(1000, 10)}円です。\")\n",
        "\n"
      ],
      "metadata": {
        "colab": {
          "base_uri": "https://localhost:8080/"
        },
        "id": "_Pp86gFFmbc5",
        "outputId": "f840adfa-e668-4795-9cfc-30648c15db89"
      },
      "execution_count": 1,
      "outputs": [
        {
          "output_type": "stream",
          "name": "stdout",
          "text": [
            "税込み価格は1100.0円です。\n"
          ]
        }
      ]
    }
  ]
}