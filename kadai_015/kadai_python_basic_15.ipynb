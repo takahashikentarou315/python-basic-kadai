{
  "nbformat": 4,
  "nbformat_minor": 0,
  "metadata": {
    "colab": {
      "provenance": []
    },
    "kernelspec": {
      "name": "python3",
      "display_name": "Python 3"
    },
    "language_info": {
      "name": "python"
    }
  },
  "cells": [
    {
      "cell_type": "code",
      "source": [
        "#Pythonの基礎を学ぼう\n",
        "#課題_15　クラスを使いこなそう\n",
        "\n",
        "class Human: #Humanクラスの定義\n",
        "    def __init__(self, name, age): #Humanクラスobj初期化定義\n",
        "        self.name = name #指定属性の初期化\n",
        "        self.age = age #指定属性の初期化\n",
        "    def printinfo(self): #Humanクラスobjの指定属性を出力するメソッド定義\n",
        "        print(self.name)\n",
        "        print(self.age)\n",
        "\n",
        "human = Human(\"侍太郎\",36) #Humanクラスobj生成(インスタンス化)\n",
        "human.printinfo() #Humanクラスobjのprintinfoメソッド実行\n",
        "\n"
      ],
      "metadata": {
        "colab": {
          "base_uri": "https://localhost:8080/"
        },
        "id": "WMURRcYsnrvr",
        "outputId": "fa734519-577f-404b-f2ed-8b8e06597e50"
      },
      "execution_count": null,
      "outputs": [
        {
          "output_type": "stream",
          "name": "stdout",
          "text": [
            "侍太郎\n",
            "36\n"
          ]
        }
      ]
    }
  ]
}