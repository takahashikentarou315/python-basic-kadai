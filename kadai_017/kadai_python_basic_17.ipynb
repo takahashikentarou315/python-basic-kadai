{
  "nbformat": 4,
  "nbformat_minor": 0,
  "metadata": {
    "colab": {
      "provenance": []
    },
    "kernelspec": {
      "name": "python3",
      "display_name": "Python 3"
    },
    "language_info": {
      "name": "python"
    }
  },
  "cells": [
    {
      "cell_type": "code",
      "source": [
        "#Pythonの基礎を学ぼう\n",
        "#課題_17≪再提出≫　学習したことを組み合わせてコードを書こう\n",
        "\n",
        "class Human: #Humanクラスの定義\n",
        "    def __init__(self, name, age): #Humanクラスobj初期化定義\n",
        "        self.name = name #指定属性の初期化\n",
        "        self.age = age #指定属性の初期化\n",
        "\n",
        "    def check_adult(self): #Humanクラスobjの指定属性を出力するメソッド定義\n",
        "        if self.age >= 20: #ageが20以上の場合\n",
        "            print(f\"{self.name}は{self.age}歳、大人です。\")\n",
        "        else: #それ以外の場合\n",
        "            print(f\"{self.name}は{self.age}歳、未成年です。\")\n",
        "\n",
        "human_age_arr = { #辞書配列定義\n",
        "    \"侍 一美\": 36,\n",
        "    \"侍 二葉\": 31,\n",
        "    \"侍 三咲\": 20,\n",
        "    \"侍 四織\": 17,\n",
        "    \"侍 五樹\": 15\n",
        "}\n",
        "\n",
        "human_age_arr[\"侍 六実\"] = 13 #辞書配列追加\n",
        "\n",
        "for key , value in human_age_arr.items(): #辞書配列全要素処理 #キーと値をコレクションとして配列化\n",
        "    human = Human(key,value) #Humanクラスobj生成(インスタンス化)\n",
        "    human.check_adult() #Humanクラスobjのcheck_adultメソッド実行"
      ],
      "metadata": {
        "colab": {
          "base_uri": "https://localhost:8080/"
        },
        "outputId": "a57b6e4e-e2ac-4f6c-ccf8-904061febd2d",
        "id": "5VG9sfXXrhQ0"
      },
      "execution_count": 3,
      "outputs": [
        {
          "output_type": "stream",
          "name": "stdout",
          "text": [
            "侍 一美は36歳、大人です。\n",
            "侍 二葉は31歳、大人です。\n",
            "侍 三咲は20歳、大人です。\n",
            "侍 四織は17歳、未成年です。\n",
            "侍 五樹は15歳、未成年です。\n",
            "侍 六実は13歳、未成年です。\n"
          ]
        }
      ]
    },
    {
      "cell_type": "code",
      "source": [
        "#Pythonの基礎を学ぼう\n",
        "#課題_17　学習したことを組み合わせてコードを書こう\n",
        "\n",
        "class Human: #Humanクラスの定義\n",
        "    def __init__(self, name, age): #Humanクラスobj初期化定義\n",
        "        self.name = name #指定属性の初期化\n",
        "        self.age = age #指定属性の初期化\n",
        "\n",
        "    def check_adult(self): #Humanクラスobjの指定属性を出力するメソッド定義\n",
        "        if self.age >= 20: #ageが20以上の場合\n",
        "            print(f\"{self.name}は{self.age}歳、大人です。\")\n",
        "        else: #それ以外の場合\n",
        "            print(f\"{self.name}は{self.age}歳、未成年です。\")\n",
        "\n",
        "\n",
        "human_age_arr = { #辞書配列定義\n",
        "    \"侍 一美\": 36,\n",
        "    \"侍 二葉\": 31,\n",
        "    \"侍 三咲\": 20,\n",
        "    \"侍 四織\": 17,\n",
        "    \"侍 五樹\": 15\n",
        "}\n",
        "\n",
        "for key , value in human_age_arr.items(): #辞書配列全要素処理 #キーと値をコレクションとして配列化\n",
        "    human = Human(key,value) #Humanクラスobj生成(インスタンス化)\n",
        "    human.check_adult() #Humanクラスobjのcheck_adultメソッド実行"
      ],
      "metadata": {
        "colab": {
          "base_uri": "https://localhost:8080/"
        },
        "outputId": "ac25983b-440d-43bf-eb0c-ffe7d3474a91",
        "id": "bJiBlSRaOhqv"
      },
      "execution_count": null,
      "outputs": [
        {
          "output_type": "stream",
          "name": "stdout",
          "text": [
            "侍 一美は36歳、大人です。\n",
            "侍 二葉は31歳、大人です。\n",
            "侍 三咲は20歳、大人です。\n",
            "侍 四織は17歳、未成年です。\n",
            "侍 五樹は15歳、未成年です。\n"
          ]
        }
      ]
    }
  ]
}